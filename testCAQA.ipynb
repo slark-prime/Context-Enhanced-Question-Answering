{
 "cells": [
  {
   "cell_type": "code",
   "execution_count": null,
   "metadata": {
    "collapsed": true,
    "pycharm": {
     "is_executing": true
    }
   },
   "outputs": [],
   "source": [
    "import torch\n",
    "torch.backends.mps.enabled = True\n",
    "torch.backends.mps.max_concurrency = 1\n",
    "device = 'mps' if torch.backends.mps.is_available() else 'cpu'\n"
   ]
  },
  {
   "cell_type": "code",
   "execution_count": 1,
   "outputs": [],
   "source": [
    "from CAQA import *\n",
    "from dotenv import load_dotenv\n",
    "# import json\n",
    "load_dotenv()\n",
    "queries = [\n",
    "    \"What is the total amount of loans funded by Fannie Mae since 2009?\",\n",
    "    \"What percentage of Fannie Mae's single-family guaranty book comprises loans acquired since 2009?\",\n",
    "    \"What was the percentage of delinquent or foreclosed single-family loans in Fannie Mae's book as of December 31, 2013?\",\n",
    "    \"What is the status of the COVID-19 pandemic as of June 2023?\",\n",
    "    \"What new technologies have been introduced in 2023?\"\n",
    "    ]\n",
    "\n",
    "llm_list = [\"google/flan-t5-xxl\", \"tiiuae/falcon-7b-instruct\", \"mosaicml/mpt-7b\",\"bigscience/bloom-560m\"]\n",
    "embedding_model_list = [\"hkunlp/instructor-xl\"]\n"
   ],
   "metadata": {
    "collapsed": false
   }
  },
  {
   "cell_type": "code",
   "execution_count": 3,
   "outputs": [
    {
     "name": "stderr",
     "output_type": "stream",
     "text": [
      "/Users/wangzhuohan/.conda/envs/year-2_summer/lib/python3.10/site-packages/InstructorEmbedding/instructor.py:7: TqdmExperimentalWarning: Using `tqdm.autonotebook.tqdm` in notebook mode. Use `tqdm.tqdm` instead to force console mode (e.g. in jupyter console)\n",
      "  from tqdm.autonotebook import trange\n"
     ]
    },
    {
     "name": "stdout",
     "output_type": "stream",
     "text": [
      "load INSTRUCTOR_Transformer\n",
      "max_seq_length  512\n"
     ]
    },
    {
     "name": "stderr",
     "output_type": "stream",
     "text": [
      "Using embedded DuckDB with persistence: data will be stored in: /Users/wangzhuohan/Desktop/year-2/CAQA\n"
     ]
    }
   ],
   "source": [
    "# default builder\n",
    "caqa_builder = CAQABuilder()\n",
    "\n",
    "# customized builder\n",
    "costomized_builder = caqa_builder.set_llm(llm_list[0])\\\n",
    "                    .set_embedding_model(embedding_model_list[0])\\\n",
    "                    .set_llm_params(temperature = 0.1, max_new_tokens = 500)\n",
    "\n",
    "# build the system based on customized builder\n",
    "myCAQA = costomized_builder.build()\n"
   ],
   "metadata": {
    "collapsed": false
   }
  },
  {
   "cell_type": "code",
   "execution_count": 4,
   "outputs": [
    {
     "name": "stdout",
     "output_type": "stream",
     "text": [
      "*******Embedding model used:  hkunlp/instructor-xl*******\n",
      "*******Large Language Model used:  google/flan-t5-xxl*******\n",
      "Question: What is the total amount of loans funded by Fannie Mae since 2009?\n",
      "Answer: $4.1 trillion\n",
      "\n",
      "*****************\n",
      "Question: What percentage of Fannie Mae's single-family guaranty book comprises loans acquired since 2009?\n",
      "Answer: 77 percent\n",
      "\n",
      "*****************\n",
      "Question: What was the percentage of delinquent or foreclosed single-family loans in Fannie Mae's book as of December 31, 2013?\n",
      "Answer: 0.10\n",
      "\n",
      "*****************\n",
      "Question: What is the status of the COVID-19 pandemic as of June 2023?\n",
      "Answer: I don't know\n",
      "\n",
      "*****************\n",
      "Question: What new technologies have been introduced in 2023?\n",
      "Answer: I don't know\n",
      "\n",
      "*****************\n"
     ]
    }
   ],
   "source": [
    "print(\"*******Embedding model used:  \" + myCAQA.embedding_model + \"*******\")\n",
    "print(\"*******Large Language Model used:  \" + myCAQA.llm_repo_id + \"*******\")\n",
    "\n",
    "for query in queries:\n",
    "    answer, source_docs = myCAQA.generate_response(query)\n",
    "    print(\"Question: \" + query)\n",
    "    print(\"Answer: \" + answer + '\\n')\n",
    "    print(\"*****************\")\n",
    "\n",
    "while True:\n",
    "    query = input(\"\\nEnter a query: \")\n",
    "\n",
    "    if query == \"exit\":\n",
    "        break\n",
    "\n",
    "    # Get the answer from the chain\n",
    "    answer, source_docs = myCAQA.generate_response(query)\n",
    "    print(\"Answer: \" + answer + '\\n')\n",
    "\n",
    "\n"
   ],
   "metadata": {
    "collapsed": false
   }
  },
  {
   "cell_type": "code",
   "execution_count": null,
   "outputs": [],
   "source": [],
   "metadata": {
    "collapsed": false
   }
  }
 ],
 "metadata": {
  "kernelspec": {
   "display_name": "Python 3",
   "language": "python",
   "name": "python3"
  },
  "language_info": {
   "codemirror_mode": {
    "name": "ipython",
    "version": 2
   },
   "file_extension": ".py",
   "mimetype": "text/x-python",
   "name": "python",
   "nbconvert_exporter": "python",
   "pygments_lexer": "ipython2",
   "version": "2.7.6"
  }
 },
 "nbformat": 4,
 "nbformat_minor": 0
}
