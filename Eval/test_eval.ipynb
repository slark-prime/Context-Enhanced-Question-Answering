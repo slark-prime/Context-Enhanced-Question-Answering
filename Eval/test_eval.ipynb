{
 "cells": [
  {
   "cell_type": "code",
   "execution_count": 1,
   "metadata": {
    "collapsed": true
   },
   "outputs": [],
   "source": [
    "from extract_blocks import extract_blocks_from_documents\n",
    "from ingest import *\n",
    "from langchain.docstore.document import Document\n",
    "\n",
    "doc = Document(page_content=\"Hello, world!\", metadata={\"author\": \"Alice\"})\n",
    "\n",
    "\n"
   ]
  },
  {
   "cell_type": "code",
   "execution_count": 2,
   "outputs": [],
   "source": [
    "class BaseLoader:\n",
    "\n",
    "    def __init__(self):\n",
    "\n",
    "        self.data = None\n",
    "\n",
    "    def load(self):\n",
    "\n",
    "        return self.data\n",
    "\n",
    "class LocalDocumentLoader(BaseLoader):\n",
    "\n",
    "    def __init__(self, file_path):\n",
    "        super().__init__()\n",
    "        self.file_path = file_path\n",
    "        self.data = None\n"
   ],
   "metadata": {
    "collapsed": false
   }
  },
  {
   "cell_type": "code",
   "execution_count": 2,
   "outputs": [],
   "source": [
    "doc.page_content = \"\\n asdfasdf\\n asdfasdf\"\n"
   ],
   "metadata": {
    "collapsed": false
   }
  },
  {
   "cell_type": "code",
   "execution_count": 3,
   "outputs": [
    {
     "name": "stdout",
     "output_type": "stream",
     "text": [
      "page_content='asdfasdf asdfasdf' metadata={'author': 'Alice'}\n"
     ]
    }
   ],
   "source": [
    "document_content_cleaning(doc)\n",
    "print(doc)"
   ],
   "metadata": {
    "collapsed": false
   }
  },
  {
   "cell_type": "code",
   "execution_count": null,
   "outputs": [],
   "source": [],
   "metadata": {
    "collapsed": false
   }
  }
 ],
 "metadata": {
  "kernelspec": {
   "display_name": "Python 3",
   "language": "python",
   "name": "python3"
  },
  "language_info": {
   "codemirror_mode": {
    "name": "ipython",
    "version": 2
   },
   "file_extension": ".py",
   "mimetype": "text/x-python",
   "name": "python",
   "nbconvert_exporter": "python",
   "pygments_lexer": "ipython2",
   "version": "2.7.6"
  }
 },
 "nbformat": 4,
 "nbformat_minor": 0
}
